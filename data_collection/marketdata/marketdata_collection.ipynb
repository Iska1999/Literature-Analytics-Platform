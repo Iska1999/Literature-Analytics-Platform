{
  "nbformat": 4,
  "nbformat_minor": 0,
  "metadata": {
    "colab": {
      "provenance": []
    },
    "kernelspec": {
      "name": "python3",
      "display_name": "Python 3"
    },
    "language_info": {
      "name": "python"
    }
  },
  "cells": [
    {
      "cell_type": "code",
      "execution_count": null,
      "metadata": {
        "colab": {
          "base_uri": "https://localhost:8080/"
        },
        "id": "p8tfm_NrmA3Q",
        "outputId": "e2f5a8e0-9f92-4487-fd9f-55892e55e7b7",
        "collapsed": true
      },
      "outputs": [
        {
          "output_type": "stream",
          "name": "stdout",
          "text": [
            "Requirement already satisfied: yfinance in /usr/local/lib/python3.11/dist-packages (0.2.61)\n",
            "Collecting pymysql\n",
            "  Downloading PyMySQL-1.1.1-py3-none-any.whl.metadata (4.4 kB)\n",
            "Requirement already satisfied: pandas>=1.3.0 in /usr/local/lib/python3.11/dist-packages (from yfinance) (2.2.2)\n",
            "Requirement already satisfied: numpy>=1.16.5 in /usr/local/lib/python3.11/dist-packages (from yfinance) (2.0.2)\n",
            "Requirement already satisfied: requests>=2.31 in /usr/local/lib/python3.11/dist-packages (from yfinance) (2.32.3)\n",
            "Requirement already satisfied: multitasking>=0.0.7 in /usr/local/lib/python3.11/dist-packages (from yfinance) (0.0.11)\n",
            "Requirement already satisfied: platformdirs>=2.0.0 in /usr/local/lib/python3.11/dist-packages (from yfinance) (4.3.8)\n",
            "Requirement already satisfied: pytz>=2022.5 in /usr/local/lib/python3.11/dist-packages (from yfinance) (2025.2)\n",
            "Requirement already satisfied: frozendict>=2.3.4 in /usr/local/lib/python3.11/dist-packages (from yfinance) (2.4.6)\n",
            "Requirement already satisfied: peewee>=3.16.2 in /usr/local/lib/python3.11/dist-packages (from yfinance) (3.18.1)\n",
            "Requirement already satisfied: beautifulsoup4>=4.11.1 in /usr/local/lib/python3.11/dist-packages (from yfinance) (4.13.4)\n",
            "Requirement already satisfied: curl_cffi>=0.7 in /usr/local/lib/python3.11/dist-packages (from yfinance) (0.10.0)\n",
            "Requirement already satisfied: protobuf>=3.19.0 in /usr/local/lib/python3.11/dist-packages (from yfinance) (5.29.4)\n",
            "Requirement already satisfied: websockets>=13.0 in /usr/local/lib/python3.11/dist-packages (from yfinance) (15.0.1)\n",
            "Requirement already satisfied: soupsieve>1.2 in /usr/local/lib/python3.11/dist-packages (from beautifulsoup4>=4.11.1->yfinance) (2.7)\n",
            "Requirement already satisfied: typing-extensions>=4.0.0 in /usr/local/lib/python3.11/dist-packages (from beautifulsoup4>=4.11.1->yfinance) (4.13.2)\n",
            "Requirement already satisfied: cffi>=1.12.0 in /usr/local/lib/python3.11/dist-packages (from curl_cffi>=0.7->yfinance) (1.17.1)\n",
            "Requirement already satisfied: certifi>=2024.2.2 in /usr/local/lib/python3.11/dist-packages (from curl_cffi>=0.7->yfinance) (2025.4.26)\n",
            "Requirement already satisfied: python-dateutil>=2.8.2 in /usr/local/lib/python3.11/dist-packages (from pandas>=1.3.0->yfinance) (2.9.0.post0)\n",
            "Requirement already satisfied: tzdata>=2022.7 in /usr/local/lib/python3.11/dist-packages (from pandas>=1.3.0->yfinance) (2025.2)\n",
            "Requirement already satisfied: charset-normalizer<4,>=2 in /usr/local/lib/python3.11/dist-packages (from requests>=2.31->yfinance) (3.4.2)\n",
            "Requirement already satisfied: idna<4,>=2.5 in /usr/local/lib/python3.11/dist-packages (from requests>=2.31->yfinance) (3.10)\n",
            "Requirement already satisfied: urllib3<3,>=1.21.1 in /usr/local/lib/python3.11/dist-packages (from requests>=2.31->yfinance) (2.4.0)\n",
            "Requirement already satisfied: pycparser in /usr/local/lib/python3.11/dist-packages (from cffi>=1.12.0->curl_cffi>=0.7->yfinance) (2.22)\n",
            "Requirement already satisfied: six>=1.5 in /usr/local/lib/python3.11/dist-packages (from python-dateutil>=2.8.2->pandas>=1.3.0->yfinance) (1.17.0)\n",
            "Downloading PyMySQL-1.1.1-py3-none-any.whl (44 kB)\n",
            "\u001b[2K   \u001b[90m━━━━━━━━━━━━━━━━━━━━━━━━━━━━━━━━━━━━━━━━\u001b[0m \u001b[32m45.0/45.0 kB\u001b[0m \u001b[31m1.7 MB/s\u001b[0m eta \u001b[36m0:00:00\u001b[0m\n",
            "\u001b[?25hInstalling collected packages: pymysql\n",
            "Successfully installed pymysql-1.1.1\n"
          ]
        }
      ],
      "source": [
        "!pip install yfinance pymysql"
      ]
    },
    {
      "cell_type": "code",
      "source": [
        "import yfinance as yf\n",
        "import pandas as pd\n",
        "\n",
        "#Fetch_sector_prices fetches ETF close prices from YFinance then calculates the monthly average\n",
        "def fetch_sector_prices(etfs, start=str, end=None):\n",
        "    if end is None:\n",
        "        end = pd.to_datetime(\"today\").strftime(\"%Y-%m-%d\")\n",
        "\n",
        "    all_data = []\n",
        "\n",
        "    for sector, ticker in etfs.items():\n",
        "        print(f\"Fetching {sector} ({ticker})...\")\n",
        "        df = yf.Ticker(ticker).history(start=start, end=end)\n",
        "\n",
        "        if df.empty:\n",
        "            print(f\"No data for {ticker}\")\n",
        "            continue\n",
        "\n",
        "        df[\"month\"] = df.index.to_period(\"M\").astype(str)\n",
        "        monthly_avg = (\n",
        "            df.groupby(\"month\")[\"Close\"]\n",
        "            .mean()\n",
        "            .reset_index()\n",
        "            .rename(columns={\"Close\": \"avg_close_price\"})\n",
        "        )\n",
        "        monthly_avg[\"sector\"] = sector\n",
        "        all_data.append(monthly_avg)\n",
        "\n",
        "    final_df = pd.concat(all_data, ignore_index=True)\n",
        "    return final_df[[\"month\", \"sector\", \"avg_close_price\"]]"
      ],
      "metadata": {
        "id": "77-ZQDLumzz2"
      },
      "execution_count": null,
      "outputs": []
    },
    {
      "cell_type": "code",
      "source": [
        "from datetime import date, timedelta\n",
        "\n",
        "#Fetch market ETFs for the five following sectors\n",
        "sector_etfs = {\n",
        "    \"technology\": \"XLK\",\n",
        "    \"healthcare\": \"XLV\",\n",
        "    \"financials\": \"XLF\",\n",
        "    \"energy\": \"XLE\",\n",
        "    \"industrials\": \"XLI\"\n",
        "}\n",
        "\n",
        "#Get today's date, then calculate date for 5 years ago\n",
        "today = date.today()\n",
        "start = today.replace(year=today.year - 5)\n",
        "#Fetch sector prices for the last 5 years\n",
        "sector_prices = fetch_sector_prices(sector_etfs,start)"
      ],
      "metadata": {
        "colab": {
          "base_uri": "https://localhost:8080/"
        },
        "id": "u8kYYUwpm7JH",
        "outputId": "e3eee672-750f-43e2-cbbf-4513885af978"
      },
      "execution_count": null,
      "outputs": [
        {
          "output_type": "stream",
          "name": "stdout",
          "text": [
            "Fetching technology (XLK)...\n"
          ]
        },
        {
          "output_type": "stream",
          "name": "stderr",
          "text": [
            "<ipython-input-2-10cd152f0d4b>:19: UserWarning: Converting to PeriodArray/Index representation will drop timezone information.\n",
            "  df[\"month\"] = df.index.to_period(\"M\").astype(str)\n"
          ]
        },
        {
          "output_type": "stream",
          "name": "stdout",
          "text": [
            "Fetching healthcare (XLV)...\n"
          ]
        },
        {
          "output_type": "stream",
          "name": "stderr",
          "text": [
            "<ipython-input-2-10cd152f0d4b>:19: UserWarning: Converting to PeriodArray/Index representation will drop timezone information.\n",
            "  df[\"month\"] = df.index.to_period(\"M\").astype(str)\n"
          ]
        },
        {
          "output_type": "stream",
          "name": "stdout",
          "text": [
            "Fetching financials (XLF)...\n"
          ]
        },
        {
          "output_type": "stream",
          "name": "stderr",
          "text": [
            "<ipython-input-2-10cd152f0d4b>:19: UserWarning: Converting to PeriodArray/Index representation will drop timezone information.\n",
            "  df[\"month\"] = df.index.to_period(\"M\").astype(str)\n"
          ]
        },
        {
          "output_type": "stream",
          "name": "stdout",
          "text": [
            "Fetching energy (XLE)...\n"
          ]
        },
        {
          "output_type": "stream",
          "name": "stderr",
          "text": [
            "<ipython-input-2-10cd152f0d4b>:19: UserWarning: Converting to PeriodArray/Index representation will drop timezone information.\n",
            "  df[\"month\"] = df.index.to_period(\"M\").astype(str)\n"
          ]
        },
        {
          "output_type": "stream",
          "name": "stdout",
          "text": [
            "Fetching industrials (XLI)...\n"
          ]
        },
        {
          "output_type": "stream",
          "name": "stderr",
          "text": [
            "<ipython-input-2-10cd152f0d4b>:19: UserWarning: Converting to PeriodArray/Index representation will drop timezone information.\n",
            "  df[\"month\"] = df.index.to_period(\"M\").astype(str)\n"
          ]
        }
      ]
    },
    {
      "cell_type": "code",
      "source": [
        "#Calculate monthly % change in price\n",
        "sector_prices[\"price_change\"] = sector_prices.groupby(\"sector\")[\"avg_close_price\"].pct_change()\n",
        "#Drop first row per sector because we are calculating % change\n",
        "sector_prices = sector_prices.dropna()"
      ],
      "metadata": {
        "id": "DFI5LwOLqrJ6"
      },
      "execution_count": null,
      "outputs": []
    },
    {
      "cell_type": "code",
      "source": [
        "from sqlalchemy import create_engine\n",
        "from sqlalchemy.engine import URL\n",
        "from sqlalchemy import text\n",
        "\n",
        "# parameters\n",
        "host_ip = \"3.148.234.227\" # my server's IP address\n",
        "id = \"test1\"\n",
        "pw = \"Test1234#\"\n",
        "\n",
        "# connect to mysql server\n",
        "url = URL.create(\n",
        "    drivername=\"mysql+pymysql\",\n",
        "    host=host_ip,\n",
        "    port=3306,\n",
        "    username= id,\n",
        "    password=pw)\n",
        "\n",
        "sqlEngine = create_engine(url)\n",
        "sql_connection = sqlEngine.connect()\n",
        "\n",
        "#sql_connection.execute(text('DROP DATABASE IF EXISTS literature_analytics_platform'))\n",
        "\n",
        "#It's already been created in the previous script\n",
        "#sql_connection.execute(text(\"CREATE DATABASE IF NOT EXISTS literature_analytics_platform\"))\n",
        "\n",
        "db_url = URL.create(\n",
        "    drivername=\"mysql+pymysql\",\n",
        "    host=host_ip,\n",
        "    port=3306,\n",
        "    username=id,\n",
        "    password=pw,\n",
        "    database=\"literature_analytics_platform\"\n",
        ")\n",
        "\n",
        "db_engine = create_engine(db_url)\n",
        "\n",
        "import pandas as pd\n",
        "\n",
        "# Upload to server\n",
        "sector_prices.to_sql(con= db_engine, name= 'marketdata', if_exists = 'replace')\n",
        "\n",
        "# Close connection\n",
        "sql_connection.close()\n",
        "sqlEngine.dispose()\n",
        "db_engine.dispose()\n",
        "\n",
        "print (\"Connection closed.\")"
      ],
      "metadata": {
        "colab": {
          "base_uri": "https://localhost:8080/"
        },
        "id": "mImhlcNeRYkY",
        "outputId": "828463af-9f31-4269-b8e1-d9d69bc9a111"
      },
      "execution_count": null,
      "outputs": [
        {
          "output_type": "stream",
          "name": "stdout",
          "text": [
            "Connection closed.\n"
          ]
        }
      ]
    }
  ]
}